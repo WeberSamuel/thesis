{
 "cells": [
  {
   "cell_type": "code",
   "execution_count": 23,
   "metadata": {},
   "outputs": [
    {
     "data": {
      "text/plain": [
       "{'p2e-cemrl': {'default.yaml': None,\n",
       "  'no-exploration.yaml': None,\n",
       "  'no-linking.yaml': None}}"
      ]
     },
     "execution_count": 23,
     "metadata": {},
     "output_type": "execute_result"
    }
   ],
   "source": [
    "from glob import glob\n",
    "from pathlib import Path\n",
    "import os\n",
    "from functools import reduce\n",
    "\n",
    "def get_directory_structure(rootdir):\n",
    "    dir = {}\n",
    "    rootdir = rootdir.rstrip(os.sep)\n",
    "    start = rootdir.rfind(os.sep) + 1\n",
    "    for path, dirs, files in os.walk(rootdir):\n",
    "        folders = path[start:].split(os.sep)\n",
    "        subdir = dict.fromkeys(files)\n",
    "        parent = reduce(dict.get, folders[:-1], dir)\n",
    "        parent[folders[-1]] = subdir\n",
    "    return dir\n",
    "\n",
    "get_directory_structure(\"configs\")['configs'][\"variants\"]"
   ]
  },
  {
   "cell_type": "code",
   "execution_count": 46,
   "metadata": {},
   "outputs": [],
   "source": [
    "envs = [os.path.join(\"configs\", name) for name in os.listdir(\"configs\") if name != \"variants\"]\n",
    "\n",
    "algorithms = [os.path.join(\"configs/variants\", name) for name in os.listdir(\"configs/variants\")]\n",
    "\n",
    "for algorithm in algorithms:\n",
    "    for env in envs:\n",
    "        if os.path.\n",
    "\n",
    "# python cli.py --config .\\configs\\variants\\p2e-cemrl\\default.yaml --config .\\configs\\toy-goal-1d\\p2e-cemrl\\default.yaml --config .\\configs\\toy-goal-1d\\p2e-cemrl\\random_start.yaml"
   ]
  },
  {
   "cell_type": "code",
   "execution_count": 164,
   "metadata": {},
   "outputs": [
    {
     "data": {
      "text/plain": [
       "torch.Size([256, 1])"
      ]
     },
     "execution_count": 164,
     "metadata": {},
     "output_type": "execute_result"
    }
   ],
   "source": [
    "import torch\n",
    "encoder_window = 30\n",
    "dones = (torch.rand(256, 180) > 0.99999999999999999999999)\n",
    "dones[0] = False\n",
    "dones[0, 0] = True\n",
    "probs = torch.ones_like(dones)\n",
    "dones = torch.where(dones)\n",
    "# probs[dones] = 0\n",
    "dones = [d.repeat(encoder_window) if i != 1 else (d[None, :] + torch.arange(0, encoder_window)[:, None]).clip(None, 179).view(-1) for i, d in enumerate(dones)]\n",
    "\n",
    "probs[dones] = 0\n",
    "torch.multinomial(probs.float(), 1, replacement=True).shape"
   ]
  }
 ],
 "metadata": {
  "kernelspec": {
   "display_name": "thesis",
   "language": "python",
   "name": "python3"
  },
  "language_info": {
   "codemirror_mode": {
    "name": "ipython",
    "version": 3
   },
   "file_extension": ".py",
   "mimetype": "text/x-python",
   "name": "python",
   "nbconvert_exporter": "python",
   "pygments_lexer": "ipython3",
   "version": "3.10.9"
  },
  "orig_nbformat": 4
 },
 "nbformat": 4,
 "nbformat_minor": 2
}
